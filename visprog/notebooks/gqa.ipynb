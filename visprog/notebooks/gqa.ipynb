{
 "cells": [
  {
   "cell_type": "code",
   "execution_count": 1,
   "metadata": {},
   "outputs": [],
   "source": [
    "import os\n",
    "import sys\n",
    "import numpy as np\n",
    "module_path = os.path.abspath(os.path.join('..'))\n",
    "if module_path not in sys.path:\n",
    "    sys.path.append(module_path)"
   ]
  },
  {
   "cell_type": "code",
   "execution_count": 2,
   "metadata": {},
   "outputs": [
    {
     "name": "stderr",
     "output_type": "stream",
     "text": [
      "c:\\Users\\Sheryl\\anaconda3\\envs\\visprog\\lib\\site-packages\\tqdm\\auto.py:21: TqdmWarning: IProgress not found. Please update jupyter and ipywidgets. See https://ipywidgets.readthedocs.io/en/stable/user_install.html\n",
      "  from .autonotebook import tqdm as notebook_tqdm\n"
     ]
    }
   ],
   "source": [
    "from PIL import Image\n",
    "from IPython.core.display import HTML\n",
    "from functools import partial\n",
    "\n",
    "from engine.utils import ProgramGenerator, ProgramInterpreter\n",
    "from prompts.gqa import create_prompt"
   ]
  },
  {
   "cell_type": "code",
   "execution_count": 3,
   "metadata": {},
   "outputs": [
    {
     "name": "stdout",
     "output_type": "stream",
     "text": [
      "Registering LOC step\n",
      "Registering COUNT step\n",
      "Registering CROP step\n",
      "Registering CROP_RIGHTOF step\n",
      "Registering CROP_LEFTOF step\n",
      "Registering CROP_FRONTOF step\n",
      "Registering CROP_INFRONTOF step\n",
      "Registering CROP_INFRONT step\n",
      "Registering CROP_BEHIND step\n",
      "Registering CROP_AHEAD step\n",
      "Registering CROP_BELOW step\n",
      "Registering CROP_ABOVE step\n",
      "Registering VQA step\n",
      "Registering EVAL step\n",
      "Registering RESULT step\n",
      "Registering ACT step\n",
      "Registering WEBLOC step\n",
      "Registering ID step\n",
      "Registering CONT step\n"
     ]
    },
    {
     "name": "stderr",
     "output_type": "stream",
     "text": [
      "AVX = 1 | AVX2 = 1 | AVX512 = 0 | AVX512_VBMI = 0 | AVX512_VNNI = 0 | FMA = 1 | NEON = 0 | ARM_FMA = 0 | F16C = 1 | FP16_VA = 0 | WASM_SIMD = 0 | BLAS = 0 | SSE3 = 1 | VSX = 0 | \n"
     ]
    }
   ],
   "source": [
    "interpreter = ProgramInterpreter(dataset='gqa')"
   ]
  },
  {
   "cell_type": "code",
   "execution_count": 4,
   "metadata": {},
   "outputs": [
    {
     "name": "stderr",
     "output_type": "stream",
     "text": [
      "AVX = 1 | AVX2 = 1 | AVX512 = 0 | AVX512_VBMI = 0 | AVX512_VNNI = 0 | FMA = 1 | NEON = 0 | ARM_FMA = 0 | F16C = 1 | FP16_VA = 0 | WASM_SIMD = 0 | BLAS = 0 | SSE3 = 1 | VSX = 0 | \n"
     ]
    }
   ],
   "source": [
    "prompter = partial(create_prompt,method='random', num_prompts=2)\n",
    "generator = ProgramGenerator(prompter=prompter)"
   ]
  },
  {
   "cell_type": "code",
   "execution_count": 4,
   "metadata": {},
   "outputs": [
    {
     "data": {
      "text/plain": [
       "(1280, 720)"
      ]
     },
     "execution_count": 4,
     "metadata": {},
     "output_type": "execute_result"
    }
   ],
   "source": [
    "image = Image.open('../assets/cust_reviews.png')\n",
    "# image.thumbnail((640,640),Image.Resampling.LANCZOS)\n",
    "init_state = dict(\n",
    "    IMAGE=image.convert('RGB')\n",
    ")\n",
    "image.size"
   ]
  },
  {
   "cell_type": "code",
   "execution_count": 6,
   "metadata": {},
   "outputs": [
    {
     "name": "stdout",
     "output_type": "stream",
     "text": [
      "Think step by step to answer the question.\n",
      "\n",
      "Question: Which place is it?\n",
      "Program:\n",
      "ANSWER0=VQA(image=IMAGE,question='Which place is it?')\n",
      "FINAL_RESULT=RESULT(var=ANSWER0)\n",
      "\n",
      "Question: Is the vehicle in the top of the image?\n",
      "Program:\n",
      "BOX0=LOC(image=IMAGE,object='TOP')\n",
      "IMAGE0=CROP(image=IMAGE,box=BOX0)\n",
      "BOX1=LOC(image=IMAGE0,object='vehicle')\n",
      "ANSWER0=COUNT(box=BOX1)\n",
      "ANSWER1=EVAL(expr=\"'yes' if {ANSWER0} > 0 else 'no'\")\n",
      "FINAL_RESULT=RESULT(var=ANSWER1)\n",
      "\n",
      "Question: How many people or animals are in the image?\n",
      "Program:\n",
      "ANSWER0=VQA(image=IMAGE,object='TOP')\n",
      "IMAGE0=CROP(image=IMAGE,box=BOX0)\n",
      "BOX1=LOC(image=IMAGE0,object='veh\n"
     ]
    }
   ],
   "source": [
    "question = \"How many people or animals are in the image?\"\n",
    "# question = \"Are there more animals than people in the image?\"\n",
    "# question = \"Localize the woman and tell me the color of her dress.\"\n",
    "# question = \"Find and tell me the name of the animal in the image.\"\n",
    "# question = \"How many women are to the right of the camel?\"\n",
    "# question = \"How many women are to the left of the camel?\"\n",
    "# question = \"Is the lamp to the left of the woman lit?\"\n",
    "# question = \"Is there a sun in the sky?\"\n",
    "\n",
    "prog,_ = generator.generate_llama(dict(question=question))\n",
    "print(prog)"
   ]
  },
  {
   "cell_type": "code",
   "execution_count": 14,
   "metadata": {},
   "outputs": [],
   "source": [
    "prog = \"BOX0=LOC(image=IMAGE,object='people')\\nBOX1=LOC(image=IMAGE,object='animals')\\nANSWER0=COUNT(box=BOX0)\\nANSWER1=COUNT(box=BOX1)\\nANSWER2=EVAL(expr=\\\"{ANSWER0} + {ANSWER1}\\\")\\nFINAL_RESULT=RESULT(var=ANSWER2)\""
   ]
  },
  {
   "cell_type": "code",
   "execution_count": 5,
   "metadata": {},
   "outputs": [],
   "source": [
    "prog = \"BOX0=LOC(image=IMAGE,object='TOP')\\nIMAGE0=CROP(image=IMAGE,box=BOX0)\\nBOX1=LOC(image=IMAGE0,object='person')\\nANSWER0=COUNT(box=BOX1)\\nFINAL_RESULT=RESULT(var=ANSWER0)\""
   ]
  },
  {
   "cell_type": "code",
   "execution_count": 5,
   "metadata": {},
   "outputs": [
    {
     "data": {
      "text/plain": [
       "'[1402] StaticText SKU\\t\\t\\t[1510] StaticText B086GNDL8K\\t\\t\\t[1340] LayoutTable \\t\\t\\t\\t[1512] StaticText Rating:\\t\\t\\t\\t[1405] generic 75%\\t\\t\\t\\t\\t[2324] StaticText % of\\t\\t\\t\\t\\t[2327] StaticText 100\\t\\t\\t\\t[1406] link 12\\xa0 Reviews \\t\\t\\t\\t[1407] link Add Your Review\\t\\t\\t[1409] StaticText $19.99\\t\\t\\t[44] generic Color * Black & Blue Black & Gold Black & Red White & Gold White & Rose Gold\\t\\t\\t\\t[49] radio Black & Blue checked: false\\t\\t\\t\\t[51] radio Black & Gold checked: false\\t\\t\\t\\t[53] radio Black & Red checked: false'"
      ]
     },
     "execution_count": 5,
     "metadata": {},
     "output_type": "execute_result"
    }
   ],
   "source": [
    "import regex as re\n",
    "\n",
    "tree = \"[1402] StaticText 'SKU'\\t\\\n",
    "\t\t[1510] StaticText 'B086GNDL8K'\\t\\\n",
    "\t\t[1340] LayoutTable ''\\t\\\n",
    "\t\t\t[1512] StaticText 'Rating:'\\t\\\n",
    "\t\t\t[1405] generic '75%'\\t\\\n",
    "\t\t\t\t[2324] StaticText '% of'\\t\\\n",
    "\t\t\t\t[2327] StaticText '100'\\t\\\n",
    "\t\t\t[1406] link '12\\xa0 Reviews '\\t\\\n",
    "\t\t\t[1407] link 'Add Your Review'\\t\\\n",
    "\t\t[1409] StaticText '$19.99'\\t\\\n",
    "\t\t[44] generic 'Color * Black & Blue Black & Gold Black & Red White & Gold White & Rose Gold'\\t\\\n",
    "\t\t\t[49] radio 'Black & Blue' checked: false\\t\\\n",
    "\t\t\t[51] radio 'Black & Gold' checked: false\\t\\\n",
    "\t\t\t[53] radio 'Black & Red' checked: false\"\n",
    "tree = re.sub(\"\\'\", \"\", tree)\n",
    "tree"
   ]
  },
  {
   "cell_type": "code",
   "execution_count": 6,
   "metadata": {},
   "outputs": [
    {
     "data": {
      "text/plain": [
       "\"BOX0=WEBLOC(image=IMAGE,object='review')\\nIMAGE0=CROP(image=IMAGE,box=BOX0)\\nID0=ID(image=IMAGE0,accessibility_tree='[1402] StaticText SKU\\t\\t\\t[1510] StaticText B086GNDL8K\\t\\t\\t[1340] LayoutTable \\t\\t\\t\\t[1512] StaticText Rating:\\t\\t\\t\\t[1405] generic 75%\\t\\t\\t\\t\\t[2324] StaticText % of\\t\\t\\t\\t\\t[2327] StaticText 100\\t\\t\\t\\t[1406] link 12\\xa0 Reviews \\t\\t\\t\\t[1407] link Add Your Review\\t\\t\\t[1409] StaticText $19.99\\t\\t\\t[44] generic Color * Black & Blue Black & Gold Black & Red White & Gold White & Rose Gold\\t\\t\\t\\t[49] radio Black & Blue checked: false\\t\\t\\t\\t[51] radio Black & Gold checked: false\\t\\t\\t\\t[53] radio Black & Red checked: false')\\nACT0=ACT(id=ID0)\\nFINAL_RESULT=RESULT(var=ID0)\""
      ]
     },
     "execution_count": 6,
     "metadata": {},
     "output_type": "execute_result"
    }
   ],
   "source": [
    "prog = \"BOX0=WEBLOC(image=IMAGE,object='review')\\n\\\n",
    "IMAGE0=CROP(image=IMAGE,box=BOX0)\\n\\\n",
    "ID0=ID(image=IMAGE0,accessibility_tree='{}')\\n\\\n",
    "ACT0=ACT(id=ID0)\\n\\\n",
    "FINAL_RESULT=RESULT(var=ID0)\".format(tree)\n",
    "prog\n",
    "# ANSWER0=VQA(image=IMAGE0,question='What action should I take to answer the question: List out reviewers, if exist, who mention about ear cups being small? Choose from scroll up, scroll down, click, go back, stop.')\\n\\"
   ]
  },
  {
   "cell_type": "code",
   "execution_count": 6,
   "metadata": {},
   "outputs": [
    {
     "data": {
      "text/plain": [
       "\"BOX0=WEBLOC(image=IMAGE,object='review by')\\nIMAGE0=CROP(image=IMAGE,box=BOX0)\\nANSWER0=VQA(image=IMAGE0, question='Does this review mention about ear cups being too small?')\\nFINAL_RESULT=RESULT(var=ANSWER0)\""
      ]
     },
     "execution_count": 6,
     "metadata": {},
     "output_type": "execute_result"
    }
   ],
   "source": [
    "import regex as re\n",
    "\n",
    "tree2 = \"Tab 0 (current): 6S Wireless Headphones Over Ear,Noise Canceling Hi-Fi Bass Foldable Stereo Wireless Kid Headsets Earbuds with Built-in Mic, Micro SD/TF, FM for iPhone/Samsung/iPad/PC (Black & Gold)\\t\\\n",
    "[1] RootWebArea '6S Wireless Headphones Over Ear,Noise Canceling Hi-Fi Bass Foldable Stereo Wireless Kid Headsets Earbuds with Built-in Mic, Micro SD/TF, FM for iPhone/Samsung/iPad/PC (Black & Gold)' focused: True\\t\\\n",
    "\t[5] main ''\\t\\\n",
    "\t\t[1419] StaticText 'Skip to the beginning of the images gallery'\\t\\\n",
    "\t\t[1177] tablist '' multiselectable: False orientation: horizontal\\t\\\n",
    "\t\t\t[1178] tab 'Details' expanded: False selected: False controls: description\\t\\\n",
    "\t\t\t\t[1420] link 'Details'\\t\\\n",
    "\t\t\t[1180] tab 'Reviews (12)' expanded: True selected: True controls: reviews\\t\\\n",
    "\t\t\t\t[1422] link 'Reviews (12)'\\t\\\n",
    "\t\t\t[2425] tabpanel 'Reviews (12)'\\t\\\n",
    "\t\t\t\t[2546] StaticText 'Customer Reviews'\\t\\\n",
    "\t\t\t\t[2633] StaticText 'Great'\\t\\\n",
    "\t\t\t\t[2597] LayoutTable ''\\t\\\n",
    "\t\t\t\t\t[2634] LayoutTableRow ''\\t\\\n",
    "\t\t\t\t\t\t[2799] LayoutTableCell 'Rating'\\t\\\n",
    "\t\t\t\t\t\t[2800] generic '100%'\\t\\\n",
    "\t\t\t\t[2637] StaticText 'I got these for working out and they are great! I’ve had them for about two months and use them 5-6 times a week. The battery lasts forever, I usually only charge once every one to two weeks.'\\t\\\n",
    "\t\t\t\t[2640] StaticText 'Review by '\\t\\\n",
    "\t\t\t\t[2642] StaticText 'Jenna Kaufman'\\t\\\n",
    "\t\t\t\t[2645] StaticText 'Posted on '\\t\\\n",
    "\t\t\t\t[2646] time ''\\t\\\n",
    "\t\t\t\t\t[2801] StaticText '4/20/23'\\t\\\n",
    "\t\t\t\t[2647] StaticText 'Love these headphones'\\t\\\n",
    "\t\t\t\t[2600] LayoutTable ''\\t\\\n",
    "\t\t\t\t\t[2648] LayoutTableRow ''\\t\\\n",
    "\t\t\t\t\t\t[2802] LayoutTableCell 'Rating'\\t\\\n",
    "\t\t\t\t\t\t[2803] generic '100%'\\t\\\n",
    "\t\t\t\t[2651] StaticText 'This headphone is wonderful. I have tried several earbuds, headbands with speaker inserts, and over ear with disappointing sound quality and volume control or difficulty using. Not so with this product. The sound quality is fantastic and I have no problem controlling and adjusting volume! I am able to connect easily with a windows laptop, chrome book laptop, IPAD, and several different android tablets.The written instructions come in a number of different languages, type fits are a bit small for my tired ancient eyes, but fortunately, operation is extremely simple.'\\t\\\n",
    "\t\t\t\t[2654] StaticText 'Review by '\\t\\\n",
    "\t\t\t\t[2656] StaticText 'Joseph Brzezinski'\\t\\\n",
    "\t\t\t\t[2659] StaticText 'Posted on '\\t\\\n",
    "\t\t\t\t[2660] time ''\\t\\\n",
    "\t\t\t\t\t[2804] StaticText '4/20/23'\\t\\\n",
    "\t\t\t\t[2661] StaticText 'Too small, did not hold charge.'\\t\\\n",
    "\t\t\t\t[2603] LayoutTable ''\\t\\\n",
    "\t\t\t\t\t[2662] LayoutTableRow ''\\t\\\n",
    "\t\t\t\t\t\t[2805] LayoutTableCell 'Rating'\\t\\\n",
    "\t\t\t\t\t\t[2806] generic '20%'\"\n",
    "\n",
    "tree2 = re.sub(\"\\'\", \"\", tree2)\n",
    "prog = \"BOX0=CONT(tree={},object='review by')\\n\\\n",
    "IMAGE0=CROP(image=IMAGE,box=BOX0)\\n\\\n",
    "ANSWER0=VQA(image=IMAGE0, question='Does this review mention about ear cups being too small?')\\n\\\n",
    "FINAL_RESULT=RESULT(var=ANSWER0)\".format(tree2)\n",
    "prog"
   ]
  },
  {
   "cell_type": "code",
   "execution_count": 7,
   "metadata": {},
   "outputs": [
    {
     "name": "stdout",
     "output_type": "stream",
     "text": [
      "WEBLOC\n",
      "CROP\n",
      "VQA\n",
      "RESULT\n"
     ]
    },
    {
     "name": "stderr",
     "output_type": "stream",
     "text": [
      "c:\\Users\\Sheryl\\anaconda3\\envs\\visprog\\lib\\site-packages\\transformers\\generation\\utils.py:1353: UserWarning: Using `max_length`'s default (20) to control the generation length. This behaviour is deprecated and will be removed from the config in v5 of Transformers -- we recommend using `max_new_tokens` to control the maximum length of the generation.\n",
      "  warnings.warn(\n"
     ]
    }
   ],
   "source": [
    "result, prog_state, html_str = interpreter.execute(prog,init_state,inspect=True)"
   ]
  },
  {
   "cell_type": "code",
   "execution_count": 7,
   "metadata": {},
   "outputs": [
    {
     "data": {
      "text/plain": [
       "'stop'"
      ]
     },
     "execution_count": 7,
     "metadata": {},
     "output_type": "execute_result"
    }
   ],
   "source": [
    "result"
   ]
  },
  {
   "cell_type": "code",
   "execution_count": 8,
   "metadata": {},
   "outputs": [
    {
     "data": {
      "text/html": [
       "<hr><div><b><span style='color: blue;'>BOX0</span></b>=<b><span style='color: red;'>WEBLOC</span></b>(<b><span style='color: darkorange;'>image</span></b>=<img style=\"vertical-align:middle\" src=\"data:image/jpeg;base64,/9j/4AAQSkZJRgABAQAAAQABAAD/2wBDAAgGBgcGBQgHBwcJCQgKDBQNDAsLDBkSEw8UHRofHh0aHBwgJC4nICIsIxwcKDcpLDAxNDQ0Hyc5PTgyPC4zNDL/2wBDAQkJCQwLDBgNDRgyIRwhMjIyMjIyMjIyMjIyMjIyMjIyMjIyMjIyMjIyMjIyMjIyMjIyMjIyMjIyMjIyMjIyMjL/wAARCAA4AGQDASIAAhEBAxEB/8QAHwAAAQUBAQEBAQEAAAAAAAAAAAECAwQFBgcICQoL/8QAtRAAAgEDAwIEAwUFBAQAAAF9AQIDAAQRBRIhMUEGE1FhByJxFDKBkaEII0KxwRVS0fAkM2JyggkKFhcYGRolJicoKSo0NTY3ODk6Q0RFRkdISUpTVFVWV1hZWmNkZWZnaGlqc3R1dnd4eXqDhIWGh4iJipKTlJWWl5iZmqKjpKWmp6ipqrKztLW2t7i5usLDxMXGx8jJytLT1NXW19jZ2uHi4+Tl5ufo6erx8vP09fb3+Pn6/8QAHwEAAwEBAQEBAQEBAQAAAAAAAAECAwQFBgcICQoL/8QAtREAAgECBAQDBAcFBAQAAQJ3AAECAxEEBSExBhJBUQdhcRMiMoEIFEKRobHBCSMzUvAVYnLRChYkNOEl8RcYGRomJygpKjU2Nzg5OkNERUZHSElKU1RVVldYWVpjZGVmZ2hpanN0dXZ3eHl6goOEhYaHiImKkpOUlZaXmJmaoqOkpaanqKmqsrO0tba3uLm6wsPExcbHyMnK0tPU1dbX2Nna4uPk5ebn6Onq8vP09fb3+Pn6/9oADAMBAAIRAxEAPwD3WYssoP2hkH90JnNIZcuGFw4XgY8vvj6VM7gTKvmbc/w7ev4037Zbk481c5xSbS3Gk3sPilWRflYtjqSCKk5qEXMJ6P8AoaPtUP8Af/Q0xE3NHNQ/aYuPm6/7JpftMWcbj/3yaAJeaOai+0xf3j/3yaPtMX94/wDfJoAl5o5qL7RFnG4/98mk+0xDHzHn/ZNAE3NHNRC4iJwGP/fJpVnjdtqtk/Q0AQXCqZckAnFFRXl3BBPskk2tgHGDRQBalacOBEqlcc5//XUS/bmyGaBfcoTn/wAeqaR8SBBKisRwCMk/rUX2hSQBdQZ6Y/yaV0hpN7EqwRBQDHHnvheM0vkxf880/IUxbiIABpUJ9hinefDu271zTEPVVRdqgKB2HFOqL7RD/wA9Fo+0Q8/vF4oAloqL7TBj/WLR9ohP/LRemaAJaKi8+H++tILmA9JF/OgCaiovtEP/AD0WnJIkhIRgcdcUAY2rWM1xeB49uNgHJxRWnP8A6z8KKAC4dlkAWYJxnBH/ANaqv2pen2tT2J2//Wq9KItwMigkDglc0itChJUAE9cKaAKsdsZY1dJEZD0+Xv69KX7FJ/fXp6VbEyMwUNyenBqTmgCj9ikx95MnrxTksm3fO/GOw7/lVzmjmgCr9hj4G58fh/hTvsaf32/T/CrHNHNAFYWUf95vfgc/pSGxiII3N+nH6Va5o5oAq/YU7SOPwH+FSR24iOVkcZOSOMH9Km5o5oArT/6z8KKJ/wDWfhRQA+VnWVSPMK45CqCDTgsuBmQE/wC7iiigCIJd95FH0/8A1UbLs5+dB6c//WoooAQJd55kT/P4UbLv/non+fwoooAXZd4P7xM/59qNl1n/AFid/wDPSiigA2Xf/PVf8/hQEu+Mun+fwoooATZebR+8TP8AP9Kei3Idd7qV74//AFUUUAR3DKJcFgOKKKKAP//Z\">, <b><span style='color: darkorange;'>object</span></b>='review by')=<img style=\"vertical-align:middle\" src=\"data:image/jpeg;base64,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\"></div><hr><div><b><span style='color: blue;'>IMAGE0</span></b>=<b><span style='color: red;'>CROP</span></b>(<b><span style='color: darkorange;'>bbox</span></b>=<img style=\"vertical-align:middle\" src=\"data:image/jpeg;base64,/9j/4AAQSkZJRgABAQAAAQABAAD/2wBDAAgGBgcGBQgHBwcJCQgKDBQNDAsLDBkSEw8UHRofHh0aHBwgJC4nICIsIxwcKDcpLDAxNDQ0Hyc5PTgyPC4zNDL/2wBDAQkJCQwLDBgNDRgyIRwhMjIyMjIyMjIyMjIyMjIyMjIyMjIyMjIyMjIyMjIyMjIyMjIyMjIyMjIyMjIyMjIyMjL/wAARCAA4AGQDASIAAhEBAxEB/8QAHwAAAQUBAQEBAQEAAAAAAAAAAAECAwQFBgcICQoL/8QAtRAAAgEDAwIEAwUFBAQAAAF9AQIDAAQRBRIhMUEGE1FhByJxFDKBkaEII0KxwRVS0fAkM2JyggkKFhcYGRolJicoKSo0NTY3ODk6Q0RFRkdISUpTVFVWV1hZWmNkZWZnaGlqc3R1dnd4eXqDhIWGh4iJipKTlJWWl5iZmqKjpKWmp6ipqrKztLW2t7i5usLDxMXGx8jJytLT1NXW19jZ2uHi4+Tl5ufo6erx8vP09fb3+Pn6/8QAHwEAAwEBAQEBAQEBAQAAAAAAAAECAwQFBgcICQoL/8QAtREAAgECBAQDBAcFBAQAAQJ3AAECAxEEBSExBhJBUQdhcRMiMoEIFEKRobHBCSMzUvAVYnLRChYkNOEl8RcYGRomJygpKjU2Nzg5OkNERUZHSElKU1RVVldYWVpjZGVmZ2hpanN0dXZ3eHl6goOEhYaHiImKkpOUlZaXmJmaoqOkpaanqKmqsrO0tba3uLm6wsPExcbHyMnK0tPU1dbX2Nna4uPk5ebn6Onq8vP09fb3+Pn6/9oADAMBAAIRAxEAPwD3WYssoP2hkH90JnNIZcuGFw4XgY8vvj6VM7gTKvmbc/w7ev4037Zbk481c5xSbS3Gk3sPilWRflYtjqSCKk5qEXMJ6P8AoaPtUP8Af/Q0xE3NHNQ/aYuPm6/7JpftMWcbj/3yaAJeaOai+0xf3j/3yaPtMX94/wDfJoAl5o5qL7RFnG4/98mk+0xDHzHn/ZNAE3NHNRC4iJwGP/fJpVnjdtqtk/Q0AQXCqZckAnFFRXl3BBPskk2tgHGDRQAl7PqMdyFtoN0OwHcEDfNk56uvtVcXGsNkNEF+tupz/wCRa1JHAkCCVFYjgEZJ/WovtCkgC6t89Mf5NS0u5tGbtZRX3C28Qa2jM8ESylQXUKMBsc1L5MX/ADzT8hTFuIgAGlQn2GKd58O7bvXNUZN3dx6qqLtUBQOw4p1RfaIf+ei0faIef3i8UCJaKi+0wY/1i0faIT/y0XpmgCWiovPh/vrSC5gPSRfzoAmoqL7RD/z0WnJIkhIRgcdcUAY2rWM1xeB49uNgHJxRWnP/AKz8KKAKOqa1Z6ddJDcXnkuybwvls2RkjPAPpWd/wlukDj+1Rxwf3D9f++a6OURbgXAJA44zSK0SkleCeuFNaJ07ap/f/wAAWpm6fJBqlsLizuElhyVzsK8j2IBqz9ik/vr09KtrMjMFDcnpwak5qHa+gyj9ikx95MnrxTksm3fO/GOw7/lVzmjmkBV+wx8Dc+Pw/wAKd9jT++36f4VY5o5oArCyj/vN78Dn9KQ2MRBG5v04/SrXNHNAFX7CnaRx+A/wqSO3ERysjjJyRxg/pU3NHNAFaf8A1n4UUT/6z8KKAHys6yqR5hXHIVQQacFlwMyAn/dxRRQBEEu+8ij6f/qo2XZz86D05/8ArUUUAIEu88yJ/n8KNl3/AM9E/wA/hRRQAuy7wf3iZ/z7UbLrP+sTv/npRRQAbLv/AJ6r/n8KAl3xl0/z+FFFACbLzaP3iZ/n+lPRbkOu91K98f8A6qKKAI7hlEuCwHFFFFAH/9k=\">)=<img style=\"vertical-align:middle\" src=\"data:image/jpeg;base64,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\"></div><hr><div><b><span style='color: blue;'>ANSWER0</span></b>=<b><span style='color: red;'>VQA</span></b>(<b><span style='color: darkorange;'>image</span></b>=<img style=\"vertical-align:middle\" src=\"data:image/jpeg;base64,/9j/4AAQSkZJRgABAQAAAQABAAD/2wBDAAgGBgcGBQgHBwcJCQgKDBQNDAsLDBkSEw8UHRofHh0aHBwgJC4nICIsIxwcKDcpLDAxNDQ0Hyc5PTgyPC4zNDL/2wBDAQkJCQwLDBgNDRgyIRwhMjIyMjIyMjIyMjIyMjIyMjIyMjIyMjIyMjIyMjIyMjIyMjIyMjIyMjIyMjIyMjIyMjL/wAARCAAUAGQDASIAAhEBAxEB/8QAHwAAAQUBAQEBAQEAAAAAAAAAAAECAwQFBgcICQoL/8QAtRAAAgEDAwIEAwUFBAQAAAF9AQIDAAQRBRIhMUEGE1FhByJxFDKBkaEII0KxwRVS0fAkM2JyggkKFhcYGRolJicoKSo0NTY3ODk6Q0RFRkdISUpTVFVWV1hZWmNkZWZnaGlqc3R1dnd4eXqDhIWGh4iJipKTlJWWl5iZmqKjpKWmp6ipqrKztLW2t7i5usLDxMXGx8jJytLT1NXW19jZ2uHi4+Tl5ufo6erx8vP09fb3+Pn6/8QAHwEAAwEBAQEBAQEBAQAAAAAAAAECAwQFBgcICQoL/8QAtREAAgECBAQDBAcFBAQAAQJ3AAECAxEEBSExBhJBUQdhcRMiMoEIFEKRobHBCSMzUvAVYnLRChYkNOEl8RcYGRomJygpKjU2Nzg5OkNERUZHSElKU1RVVldYWVpjZGVmZ2hpanN0dXZ3eHl6goOEhYaHiImKkpOUlZaXmJmaoqOkpaanqKmqsrO0tba3uLm6wsPExcbHyMnK0tPU1dbX2Nna4uPk5ebn6Onq8vP09fb3+Pn6/9oADAMBAAIRAxEAPwD3+kPAOOtLSHgHHWgDCi1LV41jE2nl8KXcgEHHBwAMgn/9XUGpDqWqrKyHTQQBjIJ5OTyOOn69+9It9q0UCebaq8jRl/utxx0OM8gjp1OR6Ggalqe4hrEbcMd5Rxj5sD5RnOBgnB5zx0oAdcane27LM1qTD5KyOm0gr94sM9MgADHqeKpXev6rDqhtrXTVvERkWYxsf3JKFiCRn2/yRV83d+Ut4zZh2eOMsXQ4Vj1J7cHt1/KnyXl95kCpZsPMiyzbcqrnHXnIA57UAZa67ryqGl0Q4VW3+WHJLbWK7RjkcAHvzxSy6zroFjKNJcRyW5kuVVC7RyDOFA46/p/K4l9qLONkLMrEhd1uyeoBbPTBx9QfY1Lb3d5JcwgqxjaR1bdAyEKBweeBz79CPwAMhta8RXdukEWlNaXMioTK0bMqAsoPUdeWODyAMmlOv+IY7eSR9BLPgeWke8nPynDcccMRkd1PausooAy9Jvr+8kuVvbH7MqMDEefmUlhzkdflB4/vCtSiigAooooAKKKKACiiigAooooAKKKKACiiigAooooAKKKKAP/Z\">,&nbsp;<b><span style='color: darkorange;'>question</span></b>='Does this review mention about ear cups being too small?')=<b><span style='color: green;'>no</span></b></div><hr><div><b><span style='color: blue;'>ACT0</span></b>=<b><span style='color: red;'>ACT</span></b>(<b><span style='color: darkorange;'>id</span></b>='no')=<b><span style='color: green;'>stop</span></b></div><hr><div><b><span style='color: red;'>RESULT</span></b> -> <b><span style='color: blue;'>ACT0</span></b> -> <b><span style='color: green;'>stop</span></b></div><hr>"
      ],
      "text/plain": [
       "<IPython.core.display.HTML object>"
      ]
     },
     "execution_count": 8,
     "metadata": {},
     "output_type": "execute_result"
    }
   ],
   "source": [
    "HTML(html_str)"
   ]
  },
  {
   "cell_type": "code",
   "execution_count": 12,
   "metadata": {},
   "outputs": [
    {
     "name": "stdout",
     "output_type": "stream",
     "text": [
      "6S Wireless Headphones Over Ear,Noise Canceling Hi-Fi Bass Foldable Stereo Wireless Kid Headsets Earbuds with Built-in Mic, Micro SD/TF, FM for iPhone/Samsung/iPad/PC (Black & Gold)\n",
      "In stock\n",
      "B086GNDL8K\n",
      "Rating:\n",
      "75                         % of 100\n",
      "12 \n",
      "                Reviews\n",
      "Add Your Review\n",
      "$19.99\n",
      "Color\n",
      "Black & Blue\n",
      "Black & Gold\n",
      "Black & Red\n",
      "White & Gold\n",
      "White & Rose Gold\n",
      "Qty\n",
      "Add to Cart\n",
      "Add to Wish List\n",
      "Add to Compare\n",
      "Skip to the end of the images gallery\n",
      "Skip to the beginning of the images gallery\n",
      "Details\n",
      "Product Quick Look\n",
      "♫[ Hi-Fi Bass Sound]:Powerful 57mm stereo driver and advanced bluetooth 4.2 chip that aim to deliver you superior sound quality with high fidelity deep bass and crystal clear treble, lose yourself in immersive music even in the lowest volume levels!\n",
      "♫[Super Features]: Wireless and wired flexible headphones,if the battery is low, you can switch to wired mode and enjoy music with a 3.5mm audio cable . Use FM radio and support SD card playback. You can listen to the FM radio using your headphones, or you can put the SD card on the SD card on your headphones to listen to music.Built-in Microphone and Control,over ear headphones provide high-quality built-in microphone for hands-free calls.\n",
      "♫[Foldable Design]:The foldable Headband is not only designed for saving your desk space. Depending on your head/ear size/shape, it maybe feels like\"on ear\"for someone to wear which is designed to avoid sound leakage. In case of that and to get both audio and wearing comfort, please take off the headphone every 1-2 hrs to get your ears relax and protect them from muggy environment in use.\n",
      "♫[Comfortable & Super Light]: These over ear Bluetooth headphones come with super soft pads and adjustable headband providing lasting comfort. GREAT COMFORT FOR ALL AGES. Ear cushion simulate human skin texture, ensuring lasting comfort.The Slider and softly padded headband allows you to find a perfect fit for different size of heads. Best wireless headphone for long term wearing.\n",
      "♫[Quality service] :We check products at every level before out of storage. If you encounter any problems, please contact us in time, because we focus on providing each customer good guarantee of rights.\n",
      "Package Dimensions     6.4 x 4.8 x 3.5 inches       Item Weight     9.6 ounces       Manufacturer     San Francisco_Shopping Center       Batteries     1 Lithium ion batteries required. (included)       Date First Available     March 27, 2020\n",
      "Reviews 12\n",
      "You're reviewing:\n",
      "Your Rating\n",
      "Rating\n",
      "1 star\n",
      "2 stars\n",
      "3 stars\n",
      "4 stars\n",
      "5 stars\n",
      "Nickname\n",
      "Summary\n",
      "Review\n",
      "Submit Review\n"
     ]
    }
   ],
   "source": [
    "from unstructured.partition.html import partition_html\n",
    "\n",
    "elements = partition_html(filename=\"../assets/headphones.html\")\n",
    "for element in elements:\n",
    "    print(element)\n",
    "    # metadata = element.metadata.to_dict()\n",
    "    # if \"emphasized_text_contents\" in metadata:\n",
    "    #     print(metadata[\"emphasized_text_contents\"])"
   ]
  },
  {
   "cell_type": "code",
   "execution_count": 20,
   "metadata": {},
   "outputs": [
    {
     "name": "stdout",
     "output_type": "stream",
     "text": [
      "kkk 12 Reviews Add Your Review\n"
     ]
    }
   ],
   "source": [
    "from unstructured.partition.image import partition_image\n",
    "image = Image.open('../assets/temp.png')\n",
    "image.thumbnail((image.size[0]/2,image.size[1]/2),Image.Resampling.LANCZOS)\n",
    "image.save('../assets/temp2.png')\n",
    "elements = partition_image('../assets/temp.png', strategy='ocr_only')\n",
    "\n",
    "for element in elements:\n",
    "    metadata = element.metadata.to_dict()\n",
    "    print(element.text)"
   ]
  },
  {
   "cell_type": "code",
   "execution_count": 26,
   "metadata": {},
   "outputs": [
    {
     "name": "stdout",
     "output_type": "stream",
     "text": [
      "My Account My Wish List Sign In Welcome to One Stop Market Create an Account\n",
      "One Stop Market\n",
      "=\n",
      "Advanced Search\n",
      "Beauty & Personal Care\n",
      "Sports & Outdoors\n",
      "Clothing, Shoes & Jewelry Office Products Tools & Home Improvement\n",
      "& Household Patio, Lawn & Garden Electronics Cell Phones & Accessories Video Games Grocery & Gourmet\n",
      "Health\n",
      "Food\n",
      "Home\n",
      "Nireless Headphone er Ear,Noise Canceling Hi-Fi Bass Foldable Stere: h Built-in M cro SD/TF, FM for iPhone/Samsung/iPad/PC (Black ; e\n",
      "& Gold\n",
      "6S Wireless Headphones Over Ear,Noise Canceling Hi-Fi Bass Foldable Stereo Wireless Kid Headsets Earbuds with Built-in Mic, Micro SD/TF, FM for iPhone/Samsung/iPad/PC (Black & Gold)\n",
      "INSTOCK SKU BO86GNDL8K\n",
      "Keke kw Wk 12 Reviews Add Your Review\n",
      "$19.99\n",
      "Bluetooth Fast Connection\n",
      "Color *\n",
      "C) O Black & Blue\n",
      "Using bluetooth core technology, transmission speed, easy to enjoy music\n",
      "fa) O Black & Gold\n",
      "O Black & Red\n",
      "O white & Gold\n",
      "O White & Roce Gold\n",
      "[746.9425659179688, 507.1411437988281, 1047.1488037109375, 523.8338623046875]\n"
     ]
    }
   ],
   "source": [
    "from unstructured.partition.image import partition_image\n",
    "import unstructured_pytesseract\n",
    "\n",
    "unstructured_pytesseract.pytesseract.tesseract_cmd = r'C:\\Users\\Sheryl\\AppData\\Local\\Programs\\Tesseract-OCR\\tesseract.exe'\n",
    "\n",
    "elements = partition_image(\"../assets/headphones.png\")\n",
    "\n",
    "bbox = []\n",
    "\n",
    "for element in elements:\n",
    "    metadata = element.metadata.to_dict()\n",
    "    print(element.text)\n",
    "    if \"review\" in element.text.lower():\n",
    "        x1 = metadata['coordinates']['points'][0][0]\n",
    "        y1 = metadata['coordinates']['points'][0][1]\n",
    "        y2 = metadata['coordinates']['points'][1][1]\n",
    "        x2 = metadata['coordinates']['points'][2][0]\n",
    "        bbox = [x1, y1, x2, y2]\n",
    "print(bbox)"
   ]
  },
  {
   "cell_type": "code",
   "execution_count": 29,
   "metadata": {},
   "outputs": [
    {
     "name": "stdout",
     "output_type": "stream",
     "text": [
      "torch.Size([4, 720, 1280])\n"
     ]
    }
   ],
   "source": [
    "import torch \n",
    "import torchvision \n",
    "from torchvision.io import read_image \n",
    "from torchvision.utils import draw_bounding_boxes \n",
    "  \n",
    "# read input image from your computer \n",
    "img = read_image('../assets/headphones.png') \n",
    "print(img.shape)\n",
    "img = img[:3]\n",
    "  \n",
    "# bounding box are xmin, ymin, xmax, ymax \n",
    "box = torch.tensor(bbox) \n",
    "box = box.unsqueeze(0) \n",
    "  \n",
    "# draw bounding box and fill color \n",
    "img = draw_bounding_boxes(img, box, width=5, \n",
    "                          colors=\"green\",  \n",
    "                          fill=True) \n",
    "  \n",
    "# transform this image to PIL image \n",
    "img = torchvision.transforms.ToPILImage()(img) \n",
    "  \n",
    "# display output \n",
    "img.show()"
   ]
  }
 ],
 "metadata": {
  "kernelspec": {
   "display_name": "visprog",
   "language": "python",
   "name": "python3"
  },
  "language_info": {
   "codemirror_mode": {
    "name": "ipython",
    "version": 3
   },
   "file_extension": ".py",
   "mimetype": "text/x-python",
   "name": "python",
   "nbconvert_exporter": "python",
   "pygments_lexer": "ipython3",
   "version": "3.10.13"
  },
  "orig_nbformat": 4
 },
 "nbformat": 4,
 "nbformat_minor": 2
}
