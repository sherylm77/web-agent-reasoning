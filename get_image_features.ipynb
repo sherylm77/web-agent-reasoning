{
 "cells": [
  {
   "cell_type": "code",
   "execution_count": 2,
   "metadata": {},
   "outputs": [],
   "source": [
    "import tqdm as notebook_tqdm\n",
    "import torch\n",
    "import torch.nn as nn\n",
    "from typing import Type, Any, Callable, Union, List, Dict, Optional, cast\n",
    "from torch import Tensor\n",
    "from collections import OrderedDict \n",
    "from torchvision.models.resnet import *\n",
    "from torchvision.models.resnet import BasicBlock, Bottleneck\n",
    "from torchvision.models.resnet import ResNet50_Weights"
   ]
  },
  {
   "cell_type": "code",
   "execution_count": 3,
   "metadata": {},
   "outputs": [],
   "source": [
    "class IntResNet(ResNet):\n",
    "    def __init__(self,output_layer,*args):\n",
    "        self.output_layer = output_layer\n",
    "        super().__init__(*args)\n",
    "        \n",
    "        self._layers = []\n",
    "        for l in list(self._modules.keys()):\n",
    "            self._layers.append(l)\n",
    "            if l == output_layer:\n",
    "                break\n",
    "        self.layers = OrderedDict(zip(self._layers,[getattr(self,l) for l in self._layers]))\n",
    "\n",
    "    def _forward_impl(self, x):\n",
    "        for l in self._layers:\n",
    "            x = self.layers[l](x)\n",
    "\n",
    "        return x\n",
    "\n",
    "    def forward(self, x):\n",
    "        return self._forward_impl(x)"
   ]
  },
  {
   "cell_type": "code",
   "execution_count": 6,
   "metadata": {},
   "outputs": [],
   "source": [
    "def new_resnet(\n",
    "    arch: str,\n",
    "    outlayer: str,\n",
    "    block: Type[Union[BasicBlock, Bottleneck]],\n",
    "    layers: List[int],\n",
    "    pretrained: bool,\n",
    "    progress: bool,\n",
    "    **kwargs: Any\n",
    ") -> IntResNet:\n",
    "\n",
    "    '''model_urls = {\n",
    "        'resnet18': 'https://download.pytorch.org/models/resnet18-5c106cde.pth',\n",
    "        'resnet34': 'https://download.pytorch.org/models/resnet34-333f7ec4.pth',\n",
    "        'resnet50': 'https://download.pytorch.org/models/resnet50-19c8e357.pth',\n",
    "        'resnet101': 'https://download.pytorch.org/models/resnet101-5d3b4d8f.pth',\n",
    "        'resnet152': 'https://download.pytorch.org/models/resnet152-b121ed2d.pth',\n",
    "        'resnext50_32x4d': 'https://download.pytorch.org/models/resnext50_32x4d-7cdf4587.pth',\n",
    "        'resnext101_32x8d': 'https://download.pytorch.org/models/resnext101_32x8d-8ba56ff5.pth',\n",
    "        'wide_resnet50_2': 'https://download.pytorch.org/models/wide_resnet50_2-95faca4d.pth',\n",
    "        'wide_resnet101_2': 'https://download.pytorch.org/models/wide_resnet101_2-32ee1156.pth',\n",
    "    }'''\n",
    "\n",
    "    model = IntResNet(outlayer, block, layers, **kwargs)\n",
    "    if pretrained:\n",
    "        state_dict = torch.hub.load_state_dict_from_url(\"https://download.pytorch.org/models/resnet50-19c8e357.pth\",\n",
    "                                              progress=progress)\n",
    "        model.load_state_dict(state_dict)\n",
    "    return model"
   ]
  },
  {
   "cell_type": "code",
   "execution_count": 7,
   "metadata": {},
   "outputs": [
    {
     "name": "stderr",
     "output_type": "stream",
     "text": [
      "Downloading: \"https://download.pytorch.org/models/resnet50-19c8e357.pth\" to C:\\Users\\Sheryl/.cache\\torch\\hub\\checkpoints\\resnet50-19c8e357.pth\n",
      "100%|██████████| 97.8M/97.8M [00:01<00:00, 54.8MB/s]\n"
     ]
    }
   ],
   "source": [
    "model = new_resnet('resnet50','layer4',Bottleneck, [3, 4, 6, 3],True,True)\n",
    "# model = model.to('cuda:0')"
   ]
  },
  {
   "cell_type": "code",
   "execution_count": 22,
   "metadata": {},
   "outputs": [
    {
     "name": "stdout",
     "output_type": "stream",
     "text": [
      "torch.Size([1, 3, 224, 224])\n"
     ]
    }
   ],
   "source": [
    "from PIL import Image\n",
    "import requests\n",
    "from io import BytesIO\n",
    "import torchvision.transforms as transforms\n",
    "\n",
    "def get_image_from_url(url):\n",
    "    response = requests.get(url)\n",
    "    img = Image.open(BytesIO(response.content))\n",
    "\n",
    "    resize = transforms.Resize([224, 224])\n",
    "    img = resize(img)\n",
    "\n",
    "    to_tensor = transforms.ToTensor()\n",
    "    img = to_tensor(img)\n",
    "    img.unsqueeze_(0)\n",
    "    \n",
    "    return img"
   ]
  },
  {
   "cell_type": "code",
   "execution_count": 23,
   "metadata": {},
   "outputs": [],
   "source": [
    "f = open('items_shuffle_1000.json')\n",
    "json_data = json.load(f)\n",
    "for item in json_data:\n",
    "    for url in item['images']:\n",
    "        if \".gif\" in url:\n",
    "            continue\n",
    "        try:\n",
    "            img = get_image_from_url(url)\n",
    "            out = model(img)\n",
    "        except:\n",
    "            print(\"error\")\n",
    "            continue\n",
    "# out = out.cpu().data.numpy()"
   ]
  },
  {
   "cell_type": "code",
   "execution_count": null,
   "metadata": {},
   "outputs": [],
   "source": []
  }
 ],
 "metadata": {
  "kernelspec": {
   "display_name": "webshop",
   "language": "python",
   "name": "python3"
  },
  "language_info": {
   "codemirror_mode": {
    "name": "ipython",
    "version": 3
   },
   "file_extension": ".py",
   "mimetype": "text/x-python",
   "name": "python",
   "nbconvert_exporter": "python",
   "pygments_lexer": "ipython3",
   "version": "3.8.13"
  },
  "orig_nbformat": 4
 },
 "nbformat": 4,
 "nbformat_minor": 2
}
